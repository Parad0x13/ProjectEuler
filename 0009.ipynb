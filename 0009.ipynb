{
 "cells": [
  {
   "cell_type": "code",
   "execution_count": null,
   "metadata": {},
   "outputs": [
    {
     "name": "stdout",
     "output_type": "stream",
     "text": [
      "Calculating...\n",
      "Found Pythagorean Triplet with a(200), b(375), c(425) who's combined product is 31875000\n"
     ]
    }
   ],
   "source": [
    "# Answer = 31875000\n",
    "\n",
    "print(\"Calculating...\")\n",
    "\n",
    "for a in range(1, 500):\n",
    "    for b in range(1, 500):\n",
    "        for c in range(1, 500):\n",
    "            if a ** 2 + b ** 2 == c ** 2 and a < b < c and a + b + c == 1000:\n",
    "                print(\"Found Pythagorean Triplet with a({}), b({}), c({}) who's combined product is {}\".format(a, b, c, a * b * c))"
   ]
  }
 ],
 "metadata": {
  "kernelspec": {
   "display_name": "Python 3",
   "language": "python",
   "name": "python3"
  },
  "language_info": {
   "codemirror_mode": {
    "name": "ipython",
    "version": 3
   },
   "file_extension": ".py",
   "mimetype": "text/x-python",
   "name": "python",
   "nbconvert_exporter": "python",
   "pygments_lexer": "ipython3",
   "version": "3.6.2"
  }
 },
 "nbformat": 4,
 "nbformat_minor": 2
}
