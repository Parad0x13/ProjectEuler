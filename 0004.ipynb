{
 "cells": [
  {
   "cell_type": "code",
   "execution_count": 3,
   "metadata": {},
   "outputs": [
    {
     "name": "stdout",
     "output_type": "stream",
     "text": [
      "Largest Palindrome made with products from 3 digit numbers is 906609\n"
     ]
    }
   ],
   "source": [
    "maxVal = 0\n",
    "\n",
    "def isPalindrome(number):\n",
    "    if str(number) == str(number)[::-1]: return 1\n",
    "    else: return 0\n",
    "\n",
    "for x in range(1, 1000):\n",
    "    for y in range(1, 1000):\n",
    "        if isPalindrome(x * y):\n",
    "            if x * y > maxVal:\n",
    "                maxVal = x * y\n",
    "\n",
    "print(\"Largest Palindrome made with products from 3 digit numbers is {}\".format(maxVal))"
   ]
  }
 ],
 "metadata": {
  "kernelspec": {
   "display_name": "Python 3",
   "language": "python",
   "name": "python3"
  },
  "language_info": {
   "codemirror_mode": {
    "name": "ipython",
    "version": 3
   },
   "file_extension": ".py",
   "mimetype": "text/x-python",
   "name": "python",
   "nbconvert_exporter": "python",
   "pygments_lexer": "ipython3",
   "version": "3.6.2"
  }
 },
 "nbformat": 4,
 "nbformat_minor": 2
}
