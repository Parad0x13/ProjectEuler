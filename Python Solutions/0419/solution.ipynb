{
 "cells": [
  {
   "cell_type": "code",
   "execution_count": null,
   "metadata": {},
   "outputs": [],
   "source": [
    "import cProfile\n",
    "\n",
    "def generate(N):\n",
    "    current = \"1\"\n",
    "    new = \"\"\n",
    "    for n in range(N - 1):\n",
    "        while True:\n",
    "            val = current[0]\n",
    "            count = 1\n",
    "\n",
    "            while True:\n",
    "                current = current[1:]\n",
    "                if current == \"\": break\n",
    "\n",
    "                if current[0] == val: count += 1\n",
    "                else: break\n",
    "\n",
    "            new += str(count) + val\n",
    "            if current == \"\": break\n",
    "\n",
    "        current = new\n",
    "        new = \"\"\n",
    "    print(\"A({}) = {}\".format(N, current.count(\"1\")))\n",
    "    print(\"B({}) = {}\".format(N, current.count(\"2\")))\n",
    "    print(\"C({}) = {}\".format(N, current.count(\"3\")))\n",
    "\n",
    "#N = 10 ** 12\n",
    "#for n in range(40, N + 1): cProfile.run(\"generate({})\".format(n))\n",
    "cProfile.run(\"generate({})\".format(40))"
   ]
  }
 ],
 "metadata": {
  "kernelspec": {
   "display_name": "Python 3",
   "language": "python",
   "name": "python3"
  },
  "language_info": {
   "codemirror_mode": {
    "name": "ipython",
    "version": 3
   },
   "file_extension": ".py",
   "mimetype": "text/x-python",
   "name": "python",
   "nbconvert_exporter": "python",
   "pygments_lexer": "ipython3",
   "version": "3.6.3"
  }
 },
 "nbformat": 4,
 "nbformat_minor": 2
}
