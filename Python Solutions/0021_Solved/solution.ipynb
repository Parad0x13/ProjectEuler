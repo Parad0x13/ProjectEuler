{
 "cells": [
  {
   "cell_type": "code",
   "execution_count": 4,
   "metadata": {},
   "outputs": [
    {
     "name": "stdout",
     "output_type": "stream",
     "text": [
      "Number of Amicable Pairs Found is: [220, 284, 1184, 1210, 2620, 2924, 5020, 5564, 6232, 6368]\n",
      "List of all Amicable Pairs:\n",
      "220\n",
      "284\n",
      "1184\n",
      "1210\n",
      "2620\n",
      "2924\n",
      "5020\n",
      "5564\n",
      "6232\n",
      "6368\n",
      "Sum of all pairs is: 31626\n"
     ]
    }
   ],
   "source": [
    "# Answer = 31626\n",
    "\n",
    "def sumRange(theArray):\n",
    "    value = 0\n",
    "    for x in range(len(theArray)):\n",
    "        value += theArray[x]\n",
    "    return value\n",
    "\n",
    "def divisableArray(value):\n",
    "    theArray = []\n",
    "    for x in range(1, value):\n",
    "        if value % x == 0:\n",
    "            theArray.append(x)\n",
    "    return theArray\n",
    "\n",
    "amicable = []\n",
    "\n",
    "for x in range(1, 10000):\n",
    "    if not x == sumRange(divisableArray(x)):\n",
    "        if x == sumRange(divisableArray(sumRange(divisableArray(x)))):\n",
    "            amicable.append(x)\n",
    "\n",
    "print(\"Number of Amicable Pairs Found is: {}\".format(amicable))\n",
    "print(\"List of all Amicable Pairs:\")\n",
    "\n",
    "for x in range(len(amicable)):\n",
    "    print(amicable[x])\n",
    "\n",
    "print(\"Sum of all pairs is: {}\".format(sumRange(amicable)))"
   ]
  }
 ],
 "metadata": {
  "kernelspec": {
   "display_name": "Python 3",
   "language": "python",
   "name": "python3"
  },
  "language_info": {
   "codemirror_mode": {
    "name": "ipython",
    "version": 3
   },
   "file_extension": ".py",
   "mimetype": "text/x-python",
   "name": "python",
   "nbconvert_exporter": "python",
   "pygments_lexer": "ipython3",
   "version": "3.6.3"
  }
 },
 "nbformat": 4,
 "nbformat_minor": 2
}
