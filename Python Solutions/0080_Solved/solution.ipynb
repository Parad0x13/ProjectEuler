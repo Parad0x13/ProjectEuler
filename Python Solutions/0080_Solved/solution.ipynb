{
 "cells": [
  {
   "cell_type": "code",
   "execution_count": 2,
   "metadata": {},
   "outputs": [
    {
     "name": "stdout",
     "output_type": "stream",
     "text": [
      "40886\n"
     ]
    }
   ],
   "source": [
    "# Answer = 40886\n",
    "# Solved 2019.08.01.1042.EST. Was the 17563rd person to solve it\n",
    "from decimal import *\n",
    "\n",
    "getcontext().prec = 110    # Some extra precision just incase\n",
    "\n",
    "total = 0\n",
    "for n in range(100):\n",
    "    a = str(Decimal(n).sqrt()).replace(\".\", \"\")[:100]\n",
    "    if len(a) == 100:\n",
    "        for item in a: total += int(item)\n",
    "print(total)"
   ]
  }
 ],
 "metadata": {
  "kernelspec": {
   "display_name": "Python 3",
   "language": "python",
   "name": "python3"
  },
  "language_info": {
   "codemirror_mode": {
    "name": "ipython",
    "version": 3
   },
   "file_extension": ".py",
   "mimetype": "text/x-python",
   "name": "python",
   "nbconvert_exporter": "python",
   "pygments_lexer": "ipython3",
   "version": "3.6.3"
  }
 },
 "nbformat": 4,
 "nbformat_minor": 2
}
