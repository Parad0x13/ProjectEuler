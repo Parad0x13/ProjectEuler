{
 "cells": [
  {
   "cell_type": "code",
   "execution_count": 2,
   "metadata": {},
   "outputs": [
    {
     "name": "stdout",
     "output_type": "stream",
     "text": [
      "FinalSum = 872187\n"
     ]
    }
   ],
   "source": [
    "# Answer = 872187\n",
    "\n",
    "maxVal = 0\n",
    "\n",
    "def isPalindrome(number):\n",
    "    if str(number) == str(number)[::-1]: return 1\n",
    "    else: return 0\n",
    "\n",
    "def Dec2Binary(n):\n",
    "    bStr = \"\"\n",
    "    while n > 0:\n",
    "        bStr = str(n % 2) + bStr\n",
    "        n = n >> 1\n",
    "    return bStr\n",
    "\n",
    "if isPalindrome(583) and isPalindrome(Dec2Binary(583)):\n",
    "    print(\"YES!\")\n",
    "\n",
    "finalSum = 0\n",
    "for x in range(1000000):\n",
    "    if isPalindrome(x) and isPalindrome(Dec2Binary(x)):\n",
    "        finalSum += x\n",
    "\n",
    "print(\"FinalSum = {}\".format(finalSum))"
   ]
  }
 ],
 "metadata": {
  "kernelspec": {
   "display_name": "Python 3",
   "language": "python",
   "name": "python3"
  },
  "language_info": {
   "codemirror_mode": {
    "name": "ipython",
    "version": 3
   },
   "file_extension": ".py",
   "mimetype": "text/x-python",
   "name": "python",
   "nbconvert_exporter": "python",
   "pygments_lexer": "ipython3",
   "version": "3.6.3"
  }
 },
 "nbformat": 4,
 "nbformat_minor": 2
}
