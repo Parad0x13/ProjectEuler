{
 "cells": [
  {
   "cell_type": "code",
   "execution_count": null,
   "metadata": {},
   "outputs": [],
   "source": [
    "import cProfile\n",
    "\n",
    "def isOneChild(n):\n",
    "    children = 0\n",
    "    stride = 1\n",
    "\n",
    "    string = str(n)\n",
    "    d = len(string)\n",
    "    while True:\n",
    "        for i in range(d - stride + 1):\n",
    "            substring = string[i : i + stride]\n",
    "\n",
    "            if int(substring) % d == 0:\n",
    "                children += 1\n",
    "                if children > 1: return False\n",
    "\n",
    "        stride += 1\n",
    "        if stride > d: break\n",
    "\n",
    "    if children != 1: return False\n",
    "    return True\n",
    "\n",
    "def evaluate(e):\n",
    "    count = 0\n",
    "    for n in range(1, 10 ** e):\n",
    "        if isOneChild(n): count += 1\n",
    "    print(\"10 ** {} has {} 1-child numbers\".format(e, current))\n",
    "\n",
    "e = 7\n",
    "cProfile.run(\"evaluate({})\".format(e))"
   ]
  }
 ],
 "metadata": {
  "kernelspec": {
   "display_name": "Python 3",
   "language": "python",
   "name": "python3"
  },
  "language_info": {
   "codemirror_mode": {
    "name": "ipython",
    "version": 3
   },
   "file_extension": ".py",
   "mimetype": "text/x-python",
   "name": "python",
   "nbconvert_exporter": "python",
   "pygments_lexer": "ipython3",
   "version": "3.6.3"
  }
 },
 "nbformat": 4,
 "nbformat_minor": 2
}
