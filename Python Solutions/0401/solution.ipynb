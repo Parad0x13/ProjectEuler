{
 "cells": [
  {
   "cell_type": "code",
   "execution_count": null,
   "metadata": {},
   "outputs": [],
   "source": [
    "import math\n",
    "\n",
    "def divisors(N):\n",
    "    retVal = []\n",
    "    for n in range(1, int(math.sqrt(N) + 1)):\n",
    "        if N % n == 0:\n",
    "            divd = int(N / n)\n",
    "            if divd == n:\n",
    "                retVal.append(n)\n",
    "            else:\n",
    "                retVal.append(n)\n",
    "                retVal.append(divd)\n",
    "    return retVal\n",
    "\n",
    "def sigma2(n):\n",
    "    retVal = 0\n",
    "    for div in divisors(n):\n",
    "        retVal += divd * divd\n",
    "    return retVal\n",
    "\n",
    "def summatory(n):\n",
    "    retVal = 0\n",
    "    for i in range(1, n + 1):\n",
    "    retVal += sigma2(i)\n",
    "    rturn retVal\n",
    "\n",
    "#n = 10 ** 15\n",
    "n = 10 ** 5    # Takes ~2.5 seconds, SLOW!\n",
    "print(summatory(n))"
   ]
  }
 ],
 "metadata": {
  "kernelspec": {
   "display_name": "Python 3",
   "language": "python",
   "name": "python3"
  },
  "language_info": {
   "codemirror_mode": {
    "name": "ipython",
    "version": 3
   },
   "file_extension": ".py",
   "mimetype": "text/x-python",
   "name": "python",
   "nbconvert_exporter": "python",
   "pygments_lexer": "ipython3",
   "version": "3.6.3"
  }
 },
 "nbformat": 4,
 "nbformat_minor": 2
}
