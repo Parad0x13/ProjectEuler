{
 "cells": [
  {
   "cell_type": "code",
   "execution_count": 2,
   "metadata": {},
   "outputs": [
    {
     "name": "stdout",
     "output_type": "stream",
     "text": [
      "Calculating...\n",
      "Number 142857 have the same digits as when its multiplied by 2, 3, 4, 5, and 6\n"
     ]
    }
   ],
   "source": [
    "# Answer = 142857\n",
    "\n",
    "def val2array(value):\n",
    "    array = []\n",
    "    for x in range(0, len(str(value))):\n",
    "        array.append(str(value)[x])\n",
    "    array.sort()\n",
    "    return array\n",
    "\n",
    "print(\"Calculating...\")\n",
    "\n",
    "for x in range(1, 200000):\n",
    "    if val2array(x) == val2array(x << 1) and val2array(x) == val2array(x * 3) and val2array(x) == val2array(x << 2) and val2array(x) == val2array(x * 5) and val2array(x) == val2array(x * 6):\n",
    "        print(\"Number {} have the same digits as when its multiplied by 2, 3, 4, 5, and 6\".format(x))"
   ]
  }
 ],
 "metadata": {
  "kernelspec": {
   "display_name": "Python 3",
   "language": "python",
   "name": "python3"
  },
  "language_info": {
   "codemirror_mode": {
    "name": "ipython",
    "version": 3
   },
   "file_extension": ".py",
   "mimetype": "text/x-python",
   "name": "python",
   "nbconvert_exporter": "python",
   "pygments_lexer": "ipython3",
   "version": "3.6.3"
  }
 },
 "nbformat": 4,
 "nbformat_minor": 2
}
