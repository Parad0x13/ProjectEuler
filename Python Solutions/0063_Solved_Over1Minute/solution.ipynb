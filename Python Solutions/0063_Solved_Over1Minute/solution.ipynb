{
 "cells": [
  {
   "cell_type": "code",
   "execution_count": 1,
   "metadata": {},
   "outputs": [
    {
     "name": "stdout",
     "output_type": "stream",
     "text": [
      "#: 1^1 = 1, len = 1\n",
      "#: 2^2 = 1, len = 2\n",
      "#: 3^3 = 1, len = 3\n",
      "#: 4^4 = 1, len = 4\n",
      "#: 5^4 = 2, len = 16\n",
      "#: 6^5 = 1, len = 5\n",
      "#: 7^5 = 2, len = 25\n",
      "#: 8^5 = 3, len = 125\n",
      "#: 9^6 = 1, len = 6\n",
      "#: 10^6 = 2, len = 36\n",
      "#: 11^6 = 3, len = 216\n",
      "#: 12^6 = 4, len = 1296\n",
      "#: 13^7 = 1, len = 7\n",
      "#: 14^7 = 2, len = 49\n",
      "#: 15^7 = 3, len = 343\n",
      "#: 16^7 = 4, len = 2401\n",
      "#: 17^7 = 5, len = 16807\n",
      "#: 18^7 = 6, len = 117649\n",
      "#: 19^8 = 1, len = 8\n",
      "#: 20^8 = 2, len = 64\n",
      "#: 21^8 = 3, len = 512\n",
      "#: 22^8 = 4, len = 4096\n",
      "#: 23^8 = 5, len = 32768\n",
      "#: 24^8 = 6, len = 262144\n",
      "#: 25^8 = 7, len = 2097152\n",
      "#: 26^8 = 8, len = 16777216\n",
      "#: 27^8 = 9, len = 134217728\n",
      "#: 28^8 = 10, len = 1073741824\n",
      "#: 29^9 = 1, len = 9\n",
      "#: 30^9 = 2, len = 81\n",
      "#: 31^9 = 3, len = 729\n",
      "#: 32^9 = 4, len = 6561\n",
      "#: 33^9 = 5, len = 59049\n",
      "#: 34^9 = 6, len = 531441\n",
      "#: 35^9 = 7, len = 4782969\n",
      "#: 36^9 = 8, len = 43046721\n",
      "#: 37^9 = 9, len = 387420489\n",
      "#: 38^9 = 10, len = 3486784401\n",
      "#: 39^9 = 11, len = 31381059609\n",
      "#: 40^9 = 12, len = 282429536481\n",
      "#: 41^9 = 13, len = 2541865828329\n",
      "#: 42^9 = 14, len = 22876792454961\n",
      "#: 43^9 = 15, len = 205891132094649\n",
      "#: 44^9 = 16, len = 1853020188851841\n",
      "#: 45^9 = 17, len = 16677181699666569\n",
      "#: 46^9 = 18, len = 150094635296999121\n",
      "#: 47^9 = 19, len = 1350851717672992089\n",
      "#: 48^9 = 20, len = 12157665459056928801\n",
      "#: 49^9 = 21, len = 109418989131512359209\n"
     ]
    },
    {
     "ename": "KeyboardInterrupt",
     "evalue": "",
     "output_type": "error",
     "traceback": [
      "\u001b[1;31m---------------------------------------------------------------------------\u001b[0m",
      "\u001b[1;31mKeyboardInterrupt\u001b[0m                         Traceback (most recent call last)",
      "\u001b[1;32m<ipython-input-1-414b05136a29>\u001b[0m in \u001b[0;36m<module>\u001b[1;34m()\u001b[0m\n\u001b[0;32m      7\u001b[0m     \u001b[1;32mfor\u001b[0m \u001b[0mn\u001b[0m \u001b[1;32min\u001b[0m \u001b[0mrange\u001b[0m\u001b[1;33m(\u001b[0m\u001b[1;36m1\u001b[0m\u001b[1;33m,\u001b[0m \u001b[1;36m10000\u001b[0m\u001b[1;33m)\u001b[0m\u001b[1;33m:\u001b[0m\u001b[1;33m\u001b[0m\u001b[0m\n\u001b[0;32m      8\u001b[0m         \u001b[0mval\u001b[0m \u001b[1;33m=\u001b[0m \u001b[0mpow\u001b[0m\u001b[1;33m(\u001b[0m\u001b[0mx\u001b[0m\u001b[1;33m,\u001b[0m \u001b[0mn\u001b[0m\u001b[1;33m)\u001b[0m\u001b[1;33m\u001b[0m\u001b[0m\n\u001b[1;32m----> 9\u001b[1;33m         \u001b[0mlength\u001b[0m \u001b[1;33m=\u001b[0m \u001b[0mlen\u001b[0m\u001b[1;33m(\u001b[0m\u001b[0mstr\u001b[0m\u001b[1;33m(\u001b[0m\u001b[0mval\u001b[0m\u001b[1;33m)\u001b[0m\u001b[1;33m)\u001b[0m\u001b[1;33m\u001b[0m\u001b[0m\n\u001b[0m\u001b[0;32m     10\u001b[0m         \u001b[1;32mif\u001b[0m \u001b[0mlength\u001b[0m \u001b[1;33m==\u001b[0m \u001b[0mn\u001b[0m\u001b[1;33m:\u001b[0m\u001b[1;33m\u001b[0m\u001b[0m\n\u001b[0;32m     11\u001b[0m             \u001b[0mcount\u001b[0m \u001b[1;33m+=\u001b[0m \u001b[1;36m1\u001b[0m\u001b[1;33m\u001b[0m\u001b[0m\n",
      "\u001b[1;31mKeyboardInterrupt\u001b[0m: "
     ]
    }
   ],
   "source": [
    "# Finished 2019.07.30.1530.EST as the the 38635th person to do so\n",
    "# I totally guessed the max values for the ranges... but it worked!\n",
    "# Answer = 49\n",
    "\n",
    "count = 0\n",
    "for x in range(1, 100):\n",
    "    for n in range(1, 10000):\n",
    "        val = pow(x, n)\n",
    "        length = len(str(val))\n",
    "        if length == n:\n",
    "            count += 1\n",
    "            print(\"#: {}^{} = {}, len = {}\".format(count, x, n, val, length))\n",
    "print(\"Done\")"
   ]
  }
 ],
 "metadata": {
  "kernelspec": {
   "display_name": "Python 3",
   "language": "python",
   "name": "python3"
  },
  "language_info": {
   "codemirror_mode": {
    "name": "ipython",
    "version": 3
   },
   "file_extension": ".py",
   "mimetype": "text/x-python",
   "name": "python",
   "nbconvert_exporter": "python",
   "pygments_lexer": "ipython3",
   "version": "3.6.3"
  }
 },
 "nbformat": 4,
 "nbformat_minor": 2
}
