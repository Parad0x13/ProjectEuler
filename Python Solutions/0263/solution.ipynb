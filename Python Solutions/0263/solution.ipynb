{
 "cells": [
  {
   "cell_type": "code",
   "execution_count": 1,
   "metadata": {},
   "outputs": [
    {
     "name": "stdout",
     "output_type": "stream",
     "text": [
      "I wonder whats the best way to do this...\n",
      "I wonder whats the best way to do this...\n",
      "I wonder whats the best way to do this...\n",
      "I wonder whats the best way to do this...\n"
     ]
    }
   ],
   "source": [
    "def divisorsOf(x):\n",
    "    divisors = []\n",
    "    for d in range(1, x + 1):\n",
    "        if x % d == 0:\n",
    "            divisors.append(d)\n",
    "    return divisors\n",
    "\n",
    "def isDistinctDivisor(divisorArray):\n",
    "    val = 0\n",
    "    for d in range(1, len(divisorArray) + 1):\n",
    "        print(\"I wonder whats the best way to do this...\")\n",
    "\n",
    "isDistinctDivisor(divisorsOf(6))"
   ]
  }
 ],
 "metadata": {
  "kernelspec": {
   "display_name": "Python 3",
   "language": "python",
   "name": "python3"
  },
  "language_info": {
   "codemirror_mode": {
    "name": "ipython",
    "version": 3
   },
   "file_extension": ".py",
   "mimetype": "text/x-python",
   "name": "python",
   "nbconvert_exporter": "python",
   "pygments_lexer": "ipython3",
   "version": "3.6.3"
  }
 },
 "nbformat": 4,
 "nbformat_minor": 2
}
