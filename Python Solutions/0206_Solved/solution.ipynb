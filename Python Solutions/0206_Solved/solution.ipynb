{
 "cells": [
  {
   "cell_type": "code",
   "execution_count": 1,
   "metadata": {},
   "outputs": [
    {
     "name": "stdout",
     "output_type": "stream",
     "text": [
      "Found 1389019170\n"
     ]
    }
   ],
   "source": [
    "# Answer = 1389019170\n",
    "\n",
    "import math\n",
    "\n",
    "for n in range(1000000000)[::-1]:\n",
    "    a = str(n)\n",
    "    padding = 9 - len(a)\n",
    "    b = \"0\" * padding + a\n",
    "    c = \"\"\n",
    "    for digit in \"123456789\":\n",
    "        c += digit + b[0]\n",
    "        b = b[1:]\n",
    "    c += \"0\"\n",
    "    c = int(c)\n",
    "\n",
    "    d = math.sqrt(c)\n",
    "    e = int(d)\n",
    "    if d == e:\n",
    "        print(\"Found {}\".format(e))\n",
    "        break"
   ]
  }
 ],
 "metadata": {
  "kernelspec": {
   "display_name": "Python 3",
   "language": "python",
   "name": "python3"
  },
  "language_info": {
   "codemirror_mode": {
    "name": "ipython",
    "version": 3
   },
   "file_extension": ".py",
   "mimetype": "text/x-python",
   "name": "python",
   "nbconvert_exporter": "python",
   "pygments_lexer": "ipython3",
   "version": "3.6.3"
  }
 },
 "nbformat": 4,
 "nbformat_minor": 2
}
