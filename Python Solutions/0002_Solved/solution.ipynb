{
 "cells": [
  {
   "cell_type": "code",
   "execution_count": 3,
   "metadata": {},
   "outputs": [
    {
     "name": "stdout",
     "output_type": "stream",
     "text": [
      "Will not add to sum if Fibonacci number is not even\n",
      "Done! With a total sum of 4613732\n"
     ]
    }
   ],
   "source": [
    "# Answer = 4613732\n",
    "\n",
    "oldNum = 1\n",
    "newNum = 0\n",
    "number = 1\n",
    "sumVal = 0\n",
    "\n",
    "print(\"Will not add to sum if Fibonacci number is not even\")\n",
    "while number < 4000000:\n",
    "    tempNum = number\n",
    "    number += oldNum\n",
    "    oldNum = tempNum\n",
    "\n",
    "    if number % 2 == 0:\n",
    "        sumVal += number\n",
    "\n",
    "print(\"Done! With a total sum of {}\".format(sumVal))"
   ]
  }
 ],
 "metadata": {
  "kernelspec": {
   "display_name": "Python 3",
   "language": "python",
   "name": "python3"
  },
  "language_info": {
   "codemirror_mode": {
    "name": "ipython",
    "version": 3
   },
   "file_extension": ".py",
   "mimetype": "text/x-python",
   "name": "python",
   "nbconvert_exporter": "python",
   "pygments_lexer": "ipython3",
   "version": "3.6.3"
  }
 },
 "nbformat": 4,
 "nbformat_minor": 2
}
