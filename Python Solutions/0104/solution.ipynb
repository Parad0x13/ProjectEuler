{
 "cells": [
  {
   "cell_type": "code",
   "execution_count": null,
   "metadata": {},
   "outputs": [],
   "source": [
    "# [TODO] Aparantly fib numbers can be generated in O(logN) however I don't really understand the implementation\n",
    "\n",
    "# [NOTE] Not needed but I like this implementation\n",
    "fibs = [1, 1]\n",
    "def fib(n):\n",
    "    if len(fibs) >= n: return fibs[n - 1]\n",
    "    fibs.append(fibs[-2] + fibs[-1])\n",
    "    return fib(n)\n",
    "\n",
    "print(\"Searching...\")\n",
    "pandigital = set(\"123456789\")\n",
    "n = 3\n",
    "a = b = 1\n",
    "while True:\n",
    "    n += 1\n",
    "\n",
    "    # [TODO] Find out if there's a better way I can do this implace\n",
    "    c = a + b\n",
    "    a = b\n",
    "    b = c\n",
    "\n",
    "    val = str(b)\n",
    "    head = val[:9]\n",
    "    tail = val[-9:]\n",
    "\n",
    "    if set(head) != pandigital or set(tail) != pandigital: continue\n",
    "\n",
    "    print(n - 1)\n",
    "    break\n",
    "\n",
    "print(\"Done\")"
   ]
  }
 ],
 "metadata": {
  "kernelspec": {
   "display_name": "Python 3",
   "language": "python",
   "name": "python3"
  },
  "language_info": {
   "codemirror_mode": {
    "name": "ipython",
    "version": 3
   },
   "file_extension": ".py",
   "mimetype": "text/x-python",
   "name": "python",
   "nbconvert_exporter": "python",
   "pygments_lexer": "ipython3",
   "version": "3.6.3"
  }
 },
 "nbformat": 4,
 "nbformat_minor": 2
}
