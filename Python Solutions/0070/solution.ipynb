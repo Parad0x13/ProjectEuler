{
 "cells": [
  {
   "cell_type": "code",
   "execution_count": 1,
   "metadata": {},
   "outputs": [
    {
     "name": "stdout",
     "output_type": "stream",
     "text": [
      "phi(677) = 676\tCurrent minimum is n = 1.0014792899408285 of 677\n",
      "Done\n"
     ]
    }
   ],
   "source": [
    "factorsMemory = []\n",
    "def factorsMemory(n):\n",
    "    if n in factorsMemory: return factorsMemory[n]\n",
    "    values = []\n",
    "    p = 2\n",
    "    while n >= p * p:\n",
    "        if n % p == 0:\n",
    "            values.append(int(p))\n",
    "            n /= p\n",
    "        else: p += 1\n",
    "    values.append(int(n))\n",
    "    factorsMemory[n] = values\n",
    "    return factorsMemory(n)\n",
    "\n",
    "def factors(n):\n",
    "    values = []\n",
    "    p = 2\n",
    "    while n >= p * p:\n",
    "        if n % p == 0:\n",
    "            values.append(int(p))\n",
    "            n /= p\n",
    "        else: p += 1\n",
    "    values.append(int(n))\n",
    "    return values\n",
    "\n",
    "def coprime(a, b):\n",
    "    aFactors = factors(a)\n",
    "    bFactors = factors(b)\n",
    "    union = list(set(aFactors) & set(bFactors))\n",
    "    if len(union) > 0: return False\n",
    "    return True\n",
    "\n",
    "def phi(n):\n",
    "    count = 0\n",
    "    for d in range(1, n):\n",
    "        if coprime(n, d): count += 1\n",
    "    return count\n",
    "\n",
    "# [BUG] This doesn't account for incorrectly assessed sets that do not match digit count with some n values\n",
    "# For example phi(1226) = 612 but these are not permutations of one another\n",
    "# I've not found a fast way of calculating this outside of using sets even with secondary tests after finding possible perms\n",
    "minimum = None\n",
    "minimumN = None\n",
    "for n in range(1, pow(10, 3))[::-1]:    # I'm going backwards because it seems the lowest ratios appear near the end, not sure if this is always the case though\n",
    "    val = phi(n)\n",
    "\n",
    "    if set(str(n)) == set(str(val)):\n",
    "        ratio = n / val\n",
    "        if minimum == None or ratio < minimum:\n",
    "            minimum = ratio\n",
    "            minimumN = n\n",
    "            print(\"phi({}) = {}\\tCurrent minimum is n = {} of {}\".format(n, val, ratio, minimumN, minimum))\n",
    "\n",
    "print(\"Done\")"
   ]
  }
 ],
 "metadata": {
  "kernelspec": {
   "display_name": "Python 3",
   "language": "python",
   "name": "python3"
  },
  "language_info": {
   "codemirror_mode": {
    "name": "ipython",
    "version": 3
   },
   "file_extension": ".py",
   "mimetype": "text/x-python",
   "name": "python",
   "nbconvert_exporter": "python",
   "pygments_lexer": "ipython3",
   "version": "3.6.3"
  }
 },
 "nbformat": 4,
 "nbformat_minor": 2
}
