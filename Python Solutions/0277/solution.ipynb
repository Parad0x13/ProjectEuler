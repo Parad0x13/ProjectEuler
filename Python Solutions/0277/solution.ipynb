{
 "cells": [
  {
   "cell_type": "code",
   "execution_count": 24,
   "metadata": {},
   "outputs": [
    {
     "name": "stdout",
     "output_type": "stream",
     "text": [
      "(((2((4((4((2((2(((2(a / 3) - 1) / 3) / 3) - 1) / 3) - 1) / 3) + 2) / 3) + 2) / 3) - 1) / 3) / 3) / 3\n"
     ]
    }
   ],
   "source": [
    "# https://www.wolframalpha.com/input/?i=%28%28%282%28%284%28%284%28%282%28%282%28%28%282%28a+%2F+3%29+-+1%29+%2F+3%29+%2F+3%29+-+1%29+%2F+3%29+-+1%29+%2F+3%29+%2B+2%29+%2F+3%29+%2B+2%29+%2F+3%29+-+1%29+%2F+3%29+%2F+3%29+%2F+3\n",
    "pattern = \"DdDddUUdDD\"\n",
    "letter = pattern[0]\n",
    "if letter == \"D\": final = \"a / 3\"\n",
    "if letter == \"U\": final = \"(4a + 2) / 3\"\n",
    "if letter == \"d\": final = \"(2a - 1) / 3\"\n",
    "for letter in pattern[1:]:\n",
    "    if letter == \"D\": final = \"({}) / 3\".format(final)\n",
    "    if letter == \"U\": final = \"(4({}) + 2) / 3\".format(final)\n",
    "    if letter == \"d\": final = \"(2({}) - 1) / 3\".format(final)\n",
    "print(final)\n",
    "\n",
    "def discover(n):\n",
    "    retVal = \"\"\n",
    "    while True:\n",
    "        pass"
   ]
  }
 ],
 "metadata": {
  "kernelspec": {
   "display_name": "Python 3",
   "language": "python",
   "name": "python3"
  },
  "language_info": {
   "codemirror_mode": {
    "name": "ipython",
    "version": 3
   },
   "file_extension": ".py",
   "mimetype": "text/x-python",
   "name": "python",
   "nbconvert_exporter": "python",
   "pygments_lexer": "ipython3",
   "version": "3.6.2"
  }
 },
 "nbformat": 4,
 "nbformat_minor": 2
}
