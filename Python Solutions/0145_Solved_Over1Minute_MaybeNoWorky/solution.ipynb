{
 "cells": [
  {
   "cell_type": "code",
   "execution_count": 1,
   "metadata": {},
   "outputs": [
    {
     "ename": "KeyboardInterrupt",
     "evalue": "",
     "output_type": "error",
     "traceback": [
      "\u001b[1;31m---------------------------------------------------------------------------\u001b[0m",
      "\u001b[1;31mKeyboardInterrupt\u001b[0m                         Traceback (most recent call last)",
      "\u001b[1;32m<ipython-input-1-080cb57820e4>\u001b[0m in \u001b[0;36m<module>\u001b[1;34m()\u001b[0m\n\u001b[0;32m     17\u001b[0m     \u001b[0ma\u001b[0m \u001b[1;33m=\u001b[0m \u001b[0mstr\u001b[0m\u001b[1;33m(\u001b[0m\u001b[0mn\u001b[0m\u001b[1;33m)\u001b[0m\u001b[1;33m\u001b[0m\u001b[0m\n\u001b[0;32m     18\u001b[0m     \u001b[1;32mif\u001b[0m \u001b[0ma\u001b[0m\u001b[1;33m[\u001b[0m\u001b[1;33m-\u001b[0m\u001b[1;36m1\u001b[0m\u001b[1;33m]\u001b[0m \u001b[1;33m<=\u001b[0m \u001b[0ma\u001b[0m\u001b[1;33m[\u001b[0m\u001b[1;36m0\u001b[0m\u001b[1;33m]\u001b[0m\u001b[1;33m:\u001b[0m \u001b[1;32mcontinue\u001b[0m    \u001b[1;31m# We can ignore any values already processed since they are symmetric!\u001b[0m\u001b[1;33m\u001b[0m\u001b[0m\n\u001b[1;32m---> 19\u001b[1;33m     \u001b[0mval\u001b[0m \u001b[1;33m=\u001b[0m \u001b[0mstr\u001b[0m\u001b[1;33m(\u001b[0m\u001b[0mn\u001b[0m \u001b[1;33m+\u001b[0m \u001b[0mint\u001b[0m\u001b[1;33m(\u001b[0m\u001b[0ma\u001b[0m\u001b[1;33m[\u001b[0m\u001b[1;33m:\u001b[0m\u001b[1;33m:\u001b[0m\u001b[1;33m-\u001b[0m\u001b[1;36m1\u001b[0m\u001b[1;33m]\u001b[0m\u001b[1;33m)\u001b[0m\u001b[1;33m)\u001b[0m\u001b[1;33m\u001b[0m\u001b[0m\n\u001b[0m\u001b[0;32m     20\u001b[0m     \u001b[1;32mif\u001b[0m \u001b[1;34m\"0\"\u001b[0m \u001b[1;32min\u001b[0m \u001b[0mval\u001b[0m \u001b[1;32mor\u001b[0m \u001b[1;34m\"2\"\u001b[0m \u001b[1;32min\u001b[0m \u001b[0mval\u001b[0m \u001b[1;32mor\u001b[0m \u001b[1;34m\"4\"\u001b[0m \u001b[1;32min\u001b[0m \u001b[0mval\u001b[0m \u001b[1;32mor\u001b[0m \u001b[1;34m\"6\"\u001b[0m \u001b[1;32min\u001b[0m \u001b[0mval\u001b[0m \u001b[1;32mor\u001b[0m \u001b[1;34m\"8\"\u001b[0m \u001b[1;32min\u001b[0m \u001b[0mval\u001b[0m\u001b[1;33m:\u001b[0m \u001b[1;32mcontinue\u001b[0m\u001b[1;33m\u001b[0m\u001b[0m\n\u001b[0;32m     21\u001b[0m     \u001b[0mfound\u001b[0m \u001b[1;33m+=\u001b[0m \u001b[1;36m2\u001b[0m    \u001b[1;31m# n and reverse(n)\u001b[0m\u001b[1;33m\u001b[0m\u001b[0m\n",
      "\u001b[1;31mKeyboardInterrupt\u001b[0m: "
     ]
    }
   ],
   "source": [
    "# Solved 2019.08.22.1356.EST and was the 14830st person to do so\n",
    "# Answer = 608720\n",
    "# It took 23m 8s to calculate so I'm not really happy with that result\n",
    "\n",
    "# n = 1: 0\n",
    "# n = 2: 20\n",
    "# n = 3: 120\n",
    "# n = 4: 720\n",
    "# n = 5: 720\n",
    "# n = 6: 18720\n",
    "# n = 7: 68720\n",
    "# n = 8: 608720\n",
    "# n = 9: 608720\n",
    "# There seems to be a pattern going on here of some sort... But there's no entry in OEIS\n",
    "\n",
    "found = 0\n",
    "for n in range(10 ** 9):\n",
    "    a = str(n)\n",
    "    if a[-1] <= a[0]: continue    # We can ignore any values already processed since they are symmetric!\n",
    "    val = str(n + int(a[::-1]))\n",
    "    if \"0\" in val or \"2\" in val or \"4\" in val or \"6\" in val or \"8\" in val: continue\n",
    "    found += 2    # n and reverse(n)\n",
    "print(found)"
   ]
  }
 ],
 "metadata": {
  "kernelspec": {
   "display_name": "Python 3",
   "language": "python",
   "name": "python3"
  },
  "language_info": {
   "codemirror_mode": {
    "name": "ipython",
    "version": 3
   },
   "file_extension": ".py",
   "mimetype": "text/x-python",
   "name": "python",
   "nbconvert_exporter": "python",
   "pygments_lexer": "ipython3",
   "version": "3.6.3"
  }
 },
 "nbformat": 4,
 "nbformat_minor": 2
}
