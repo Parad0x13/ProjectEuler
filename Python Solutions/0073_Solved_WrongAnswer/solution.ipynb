{
 "cells": [
  {
   "cell_type": "code",
   "execution_count": 1,
   "metadata": {},
   "outputs": [
    {
     "name": "stdout",
     "output_type": "stream",
     "text": [
      "21886128\n"
     ]
    }
   ],
   "source": [
    "# Solved 2019.08.12.1655.EST as the 22405th person to do so\n",
    "# Answer = 7295372\n",
    "\n",
    "# Uses Euclid's Method\n",
    "# [TODO] See if there's a faster way to optimize for larger values, e.g. testing if n is more than half of d etc...\n",
    "def HCF(n, d):\n",
    "    if n == 1: return False    # Small optimization for this puzzle, this is not mathematically correct however\n",
    "    while True:\n",
    "        if False: pass\n",
    "        elif n > d: n -= d\n",
    "        elif d > n: d -= n\n",
    "        elif n == d: return n\n",
    "\n",
    "def betweenTargets(D, targetL, targetR):\n",
    "    answers = 0\n",
    "    targetLValue = targetL[0] / targetL[1]\n",
    "    targetRValue = targetR[0] / targetR[1]\n",
    "    for d in range(1, D + 1):\n",
    "        for n in range(1, d):\n",
    "            value = n / d\n",
    "            if value > targetLValue and value > targetRValue and HCF(n, d) == 1:\n",
    "                answers += 1\n",
    "    return answers\n",
    "\n",
    "print(betweenTargets(12000, (1, 3), (1, 2)))"
   ]
  }
 ],
 "metadata": {
  "kernelspec": {
   "display_name": "Python 3",
   "language": "python",
   "name": "python3"
  },
  "language_info": {
   "codemirror_mode": {
    "name": "ipython",
    "version": 3
   },
   "file_extension": ".py",
   "mimetype": "text/x-python",
   "name": "python",
   "nbconvert_exporter": "python",
   "pygments_lexer": "ipython3",
   "version": "3.6.3"
  }
 },
 "nbformat": 4,
 "nbformat_minor": 2
}
