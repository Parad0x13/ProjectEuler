{
 "cells": [
  {
   "cell_type": "code",
   "execution_count": null,
   "metadata": {},
   "outputs": [],
   "source": [
    "def fib(N):\n",
    "    if N == 0: return 0\n",
    "    if N == 1: return 1\n",
    "    if N == 2: return 1\n",
    "    a = 1\n",
    "    b = 1\n",
    "    for n in range(N - 2):\n",
    "        c = a + b\n",
    "        a = b\n",
    "        b = c\n",
    "    return b\n",
    "\n",
    "def F(N, x):\n",
    "    total = 0\n",
    "    for n in range(1, N + 1):\n",
    "        polynomial = fib(n) * pow(x, n)\n",
    "        total += polynomial\n",
    "    return total\n",
    "\n",
    "mod = 1307674368000\n",
    "\n",
    "#n = pow(10, 15)    # Goal\n",
    "#xMax = 100    # Goal\n",
    "\n",
    "n = pow(10, 3)\n",
    "xMax = 100\n",
    "\n",
    "total = 0\n",
    "for x in range(xMax + 1): total += F(n, x)\n",
    "print(total)\n",
    "print()\n",
    "print(total % mod)"
   ]
  }
 ],
 "metadata": {
  "kernelspec": {
   "display_name": "Python 3",
   "language": "python",
   "name": "python3"
  },
  "language_info": {
   "codemirror_mode": {
    "name": "ipython",
    "version": 3
   },
   "file_extension": ".py",
   "mimetype": "text/x-python",
   "name": "python",
   "nbconvert_exporter": "python",
   "pygments_lexer": "ipython3",
   "version": "3.6.3"
  }
 },
 "nbformat": 4,
 "nbformat_minor": 2
}
