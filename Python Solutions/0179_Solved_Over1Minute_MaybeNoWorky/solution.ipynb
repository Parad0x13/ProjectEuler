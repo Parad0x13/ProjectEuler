{
 "cells": [
  {
   "cell_type": "code",
   "execution_count": null,
   "metadata": {},
   "outputs": [],
   "source": [
    "# Solved 2019.08.22.1718.EST and was the 9995th person to do so\n",
    "# Answer = 986262\n",
    "# This took 41m 4s to calculate which is REALLY bad... however it did get the right answer\n",
    "# I should reevaluate my methodology someday\n",
    "\n",
    "import math\n",
    "\n",
    "# We know that divisors come in pairs so we only need to calculate up to sprt(n) and grab it's associated pair\n",
    "# Outlier is if the divisor is also it's own pair, then we need to handle for that\n",
    "def divisorsCount(N):\n",
    "    count = 0\n",
    "    for n in range(1, int(math.sqrt(N)) + 1):\n",
    "        if N % n == 0:\n",
    "            partner = int(N / n)    # This cast shouldn't be needed... right?\n",
    "            if partner == n: count += 1\n",
    "            else: count += 2\n",
    "    return count\n",
    "\n",
    "prior = 0\n",
    "count = 0\n",
    "for n in range(1, 10 ** 7)[::-1]:\n",
    "    current = divisorsCount(n)\n",
    "    if prior == None:\n",
    "        prior = current\n",
    "        continue\n",
    "\n",
    "    if prior == current: count += 1\n",
    "    prior = current\n",
    "\n",
    "print(count)"
   ]
  }
 ],
 "metadata": {
  "kernelspec": {
   "display_name": "Python 3",
   "language": "python",
   "name": "python3"
  },
  "language_info": {
   "codemirror_mode": {
    "name": "ipython",
    "version": 3
   },
   "file_extension": ".py",
   "mimetype": "text/x-python",
   "name": "python",
   "nbconvert_exporter": "python",
   "pygments_lexer": "ipython3",
   "version": "3.6.3"
  }
 },
 "nbformat": 4,
 "nbformat_minor": 2
}
