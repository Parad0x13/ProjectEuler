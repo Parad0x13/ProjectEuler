{
 "cells": [
  {
   "cell_type": "code",
   "execution_count": 2,
   "metadata": {},
   "outputs": [
    {
     "name": "stdout",
     "output_type": "stream",
     "text": [
      "Calculating Primes up to 10000\n",
      "Found 1229 primes\n",
      "Last prime found was 9973\n"
     ]
    }
   ],
   "source": [
    "# Solved with cpp but not in python\n",
    "\n",
    "primes = []\n",
    "\n",
    "def findPrimes(maxCheck):\n",
    "    print(\"Calculating Primes up to {}\".format(maxCheck))\n",
    "    for x in range(2, maxCheck):\n",
    "        prime = 1\n",
    "        for y in range(2, x):\n",
    "            if x % y == 0:\n",
    "                prime = 0\n",
    "        if prime:\n",
    "            primes.append(x)\n",
    "\n",
    "findPrimes(10000)\n",
    "print(\"Found {} primes\".format(len(primes)))\n",
    "print(\"Last prime found was {}\".format(primes[len(primes)-1]))"
   ]
  }
 ],
 "metadata": {
  "kernelspec": {
   "display_name": "Python 3",
   "language": "python",
   "name": "python3"
  },
  "language_info": {
   "codemirror_mode": {
    "name": "ipython",
    "version": 3
   },
   "file_extension": ".py",
   "mimetype": "text/x-python",
   "name": "python",
   "nbconvert_exporter": "python",
   "pygments_lexer": "ipython3",
   "version": "3.6.3"
  }
 },
 "nbformat": 4,
 "nbformat_minor": 2
}
