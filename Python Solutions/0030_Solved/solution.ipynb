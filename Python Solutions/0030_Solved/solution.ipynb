{
 "cells": [
  {
   "cell_type": "code",
   "execution_count": 1,
   "metadata": {},
   "outputs": [
    {
     "name": "stdout",
     "output_type": "stream",
     "text": [
      "4150 works!\n",
      "4151 works!\n",
      "54748 works!\n",
      "92727 works!\n",
      "93084 works!\n",
      "194979 works!\n",
      "Final Accumulated sum is 443839\n"
     ]
    }
   ],
   "source": [
    "# Answer = 443839\n",
    "\n",
    "def evalNumber(number):\n",
    "    value = 0\n",
    "    for x in range(len(str(number))):\n",
    "        value += int(str(number)[x]) ** 5\n",
    "    if number == value: return 1\n",
    "    else: return 0\n",
    "\n",
    "array = []\n",
    "finalSum = 0\n",
    "\n",
    "#It just so happens 1000000 finds all numbers, don't know why exactly though\n",
    "for x in range (2, 200000):\n",
    "    if evalNumber(x):\n",
    "        print(\"{} works!\".format(x))\n",
    "        finalSum += x\n",
    "        array.append(x)\n",
    "\n",
    "print(\"Final Accumulated sum is {}\".format(finalSum))"
   ]
  }
 ],
 "metadata": {
  "kernelspec": {
   "display_name": "Python 3",
   "language": "python",
   "name": "python3"
  },
  "language_info": {
   "codemirror_mode": {
    "name": "ipython",
    "version": 3
   },
   "file_extension": ".py",
   "mimetype": "text/x-python",
   "name": "python",
   "nbconvert_exporter": "python",
   "pygments_lexer": "ipython3",
   "version": "3.6.3"
  }
 },
 "nbformat": 4,
 "nbformat_minor": 2
}
