{
 "cells": [
  {
   "cell_type": "code",
   "execution_count": null,
   "metadata": {},
   "outputs": [],
   "source": [
    "# We needn't calculate all the way to 10^8, we can be smarter\n",
    "def palindromes(power):\n",
    "    retVal = []\n",
    "    upper = int(\"9\" * (int((power + 1) / 2) + (power + 1) 5 2))\n",
    "    for n in range(1, upper):\n",
    "        palindrome = str(n) + str(n)[::-1][1:]\n",
    "        if len(palindrome) > power + 1: break\n",
    "        retVal.append(int(palindrome))\n",
    "    return retVal\n",
    "\n",
    "# Still trying to figure out how to get it to actually generate everything correctly\n",
    "everything = palindromes(10)"
   ]
  }
 ],
 "metadata": {
  "kernelspec": {
   "display_name": "Python 3",
   "language": "python",
   "name": "python3"
  },
  "language_info": {
   "codemirror_mode": {
    "name": "ipython",
    "version": 3
   },
   "file_extension": ".py",
   "mimetype": "text/x-python",
   "name": "python",
   "nbconvert_exporter": "python",
   "pygments_lexer": "ipython3",
   "version": "3.6.3"
  }
 },
 "nbformat": 4,
 "nbformat_minor": 2
}
