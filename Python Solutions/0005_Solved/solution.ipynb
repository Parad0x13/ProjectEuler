{
 "cells": [
  {
   "cell_type": "code",
   "execution_count": 18,
   "metadata": {},
   "outputs": [
    {
     "name": "stdout",
     "output_type": "stream",
     "text": [
      "Calculating...\n",
      "232792560\n",
      "Done\n"
     ]
    }
   ],
   "source": [
    "# Answer is 232792560\n",
    "# [TODO] Find a more elegant solution than what I'm doing here\n",
    "\n",
    "print(\"Calculating...\")\n",
    "\n",
    "n = 1\n",
    "while True:\n",
    "    if \\\n",
    "    n % 20 == 0 and \\\n",
    "    n % 19 == 0 and \\\n",
    "    n % 18 == 0 and \\\n",
    "    n % 17 == 0 and \\\n",
    "    n % 16 == 0 and \\\n",
    "    n % 15 == 0 and \\\n",
    "    n % 14 == 0 and \\\n",
    "    n % 13 == 0 and \\\n",
    "    n % 12 == 0 and \\\n",
    "    n % 11 == 0 and \\\n",
    "    n % 10 == 0 and \\\n",
    "    n % 9  == 0 and \\\n",
    "    n % 8  == 0 and \\\n",
    "    n % 7  == 0 and \\\n",
    "    n % 6  == 0 and \\\n",
    "    n % 5  == 0 and \\\n",
    "    n % 4  == 0 and \\\n",
    "    n % 3  == 0 and \\\n",
    "    n % 2  == 0 and \\\n",
    "    n % 1  == 0:\n",
    "        print(n)\n",
    "        break\n",
    "    n += 1\n",
    "\n",
    "print(\"Done\")"
   ]
  }
 ],
 "metadata": {
  "kernelspec": {
   "display_name": "Python 3",
   "language": "python",
   "name": "python3"
  },
  "language_info": {
   "codemirror_mode": {
    "name": "ipython",
    "version": 3
   },
   "file_extension": ".py",
   "mimetype": "text/x-python",
   "name": "python",
   "nbconvert_exporter": "python",
   "pygments_lexer": "ipython3",
   "version": "3.6.3"
  }
 },
 "nbformat": 4,
 "nbformat_minor": 2
}
