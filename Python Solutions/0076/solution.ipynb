{
 "cells": [
  {
   "cell_type": "code",
   "execution_count": null,
   "metadata": {},
   "outputs": [],
   "source": [
    "# My initial attempts at this were done by hand for f(1 - 10) and I got the sequence 0, 1, 2, 4, 6, 8, 13, 21, 27, 34\n",
    "# I couldn't find this in OEIS so instead I looked up the delta between the values and found sequence A072987 that was similar\n",
    "# I implemented it below but it wasn't the correct answer...\n",
    "# Not for 5327 nor for 5450\n",
    "\n",
    "# This might be helpful: https://www.math.upenn.edu/~wilf/PIMS/PIMSLectures.pdf\n",
    "\n",
    "# Looks like this is a known issue that seems to have no known closed form solution. This means I have to find other ways of calculating them and a few examples of how are outlined in this pdf:\n",
    "# https://pdfs.semanticscholar.org/df22/b005a381c7b837e781926589842dde8d8f80.pdf\n",
    "# I guess the problem being asked is 'calculate unrestricted partitions'\n",
    "\n",
    "e = 2\n",
    "fibmods = [1, 1]\n",
    "for n in range(10 ** e):\n",
    "    n = len(fibmods) + 1\n",
    "    fibmods.append((fibmods[-1] % (n - 1)) + (fibmods[-2] % (n - 2)))\n",
    "sequence = [1, 2, 4, 6, 8]\n",
    "for n in range(5, 10 ** e): sequence.append(sequence[-1], + fibmods[n])\n",
    "for n in range(len(sequence)): print(\"{} = {}\".format(n + 1, sequence[n]))"
   ]
  }
 ],
 "metadata": {
  "kernelspec": {
   "display_name": "Python 3",
   "language": "python",
   "name": "python3"
  },
  "language_info": {
   "codemirror_mode": {
    "name": "ipython",
    "version": 3
   },
   "file_extension": ".py",
   "mimetype": "text/x-python",
   "name": "python",
   "nbconvert_exporter": "python",
   "pygments_lexer": "ipython3",
   "version": "3.6.3"
  }
 },
 "nbformat": 4,
 "nbformat_minor": 2
}
