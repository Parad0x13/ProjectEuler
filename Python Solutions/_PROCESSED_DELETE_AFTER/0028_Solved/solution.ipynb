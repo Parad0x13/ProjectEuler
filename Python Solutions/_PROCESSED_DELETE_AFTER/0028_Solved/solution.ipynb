{
 "cells": [
  {
   "cell_type": "code",
   "execution_count": 4,
   "metadata": {},
   "outputs": [
    {
     "name": "stdout",
     "output_type": "stream",
     "text": [
      "FinalSum = 669171001\n"
     ]
    }
   ],
   "source": [
    "# Answer = 669171001\n",
    "\n",
    "maxX = 1005\n",
    "maxY = 1005\n",
    "\n",
    "a = [[0 for y in range(maxY)] for x in range(maxX)]\n",
    "\n",
    "for x in range(maxX):\n",
    "    for y in range(maxY):\n",
    "        a[y][x] = 0\n",
    "\n",
    "posX = int(maxX / 2)\n",
    "posY = int(maxY / 2)\n",
    "radius = 1\n",
    "number = 1\n",
    "a[posY][posX] = 1\n",
    "number += 1\n",
    "for d in range(500):\n",
    "    for r in range(1, radius + 1):\n",
    "        a[posY][posX + r] = number\n",
    "        number += 1\n",
    "    posX += radius\n",
    "    for r in range(1, radius + 1):\n",
    "        a[posY + r][posX] = number\n",
    "        number += 1\n",
    "    posY += radius\n",
    "    radius += 1\n",
    "    for r in range(1, radius + 1):\n",
    "        a[posY][posX - r] = number\n",
    "        number += 1\n",
    "    posX -= radius\n",
    "    for r in range(1, radius + 1):\n",
    "        a[posY - r][posX] = number\n",
    "        number += 1\n",
    "    posY -= radius\n",
    "    radius += 1\n",
    "\n",
    "for r in range(1, radius):\n",
    "    a[posY][posX + r] = number\n",
    "    number += 1\n",
    "\n",
    "finalSum = 0\n",
    "for x in range(maxX):\n",
    "    finalSum += a[x][x]\n",
    "for x in range(maxX):\n",
    "    finalSum += a[maxX-x-1][x]\n",
    "\n",
    "finalSum -= 1\n",
    "\n",
    "print(\"FinalSum = {}\".format(finalSum))"
   ]
  }
 ],
 "metadata": {
  "kernelspec": {
   "display_name": "Python 3",
   "language": "python",
   "name": "python3"
  },
  "language_info": {
   "codemirror_mode": {
    "name": "ipython",
    "version": 3
   },
   "file_extension": ".py",
   "mimetype": "text/x-python",
   "name": "python",
   "nbconvert_exporter": "python",
   "pygments_lexer": "ipython3",
   "version": "3.6.3"
  }
 },
 "nbformat": 4,
 "nbformat_minor": 2
}
