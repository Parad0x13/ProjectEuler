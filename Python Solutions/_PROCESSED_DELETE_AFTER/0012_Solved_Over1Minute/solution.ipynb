{
 "cells": [
  {
   "cell_type": "code",
   "execution_count": 1,
   "metadata": {},
   "outputs": [
    {
     "name": "stdout",
     "output_type": "stream",
     "text": [
      "Calculating... Program not optimized, this may take awhile...\n",
      "Value: 1. New maxDivisor from Triangle 1 with 1 Divisors\n",
      "Value: 2. New maxDivisor from Triangle 3 with 2 Divisors\n",
      "Value: 3. New maxDivisor from Triangle 6 with 4 Divisors\n",
      "Value: 7. New maxDivisor from Triangle 28 with 6 Divisors\n",
      "Value: 8. New maxDivisor from Triangle 36 with 9 Divisors\n",
      "Value: 15. New maxDivisor from Triangle 120 with 16 Divisors\n",
      "Value: 24. New maxDivisor from Triangle 300 with 18 Divisors\n",
      "Value: 32. New maxDivisor from Triangle 528 with 20 Divisors\n",
      "Value: 35. New maxDivisor from Triangle 630 with 24 Divisors\n",
      "Value: 63. New maxDivisor from Triangle 2016 with 36 Divisors\n",
      "Value: 80. New maxDivisor from Triangle 3240 with 40 Divisors\n",
      "Value: 104. New maxDivisor from Triangle 5460 with 48 Divisors\n",
      "Value: 224. New maxDivisor from Triangle 25200 with 90 Divisors\n",
      "Value: 384. New maxDivisor from Triangle 73920 with 112 Divisors\n",
      "Value: 560. New maxDivisor from Triangle 157080 with 128 Divisors\n",
      "Value: 935. New maxDivisor from Triangle 437580 with 144 Divisors\n",
      "Value: 1224. New maxDivisor from Triangle 749700 with 162 Divisors\n",
      "Value: 1664. New maxDivisor from Triangle 1385280 with 168 Divisors\n",
      "Value: 1728. New maxDivisor from Triangle 1493856 with 192 Divisors\n"
     ]
    },
    {
     "ename": "KeyboardInterrupt",
     "evalue": "",
     "output_type": "error",
     "traceback": [
      "\u001b[1;31m---------------------------------------------------------------------------\u001b[0m",
      "\u001b[1;31mKeyboardInterrupt\u001b[0m                         Traceback (most recent call last)",
      "\u001b[1;32m<ipython-input-1-42009d62e997>\u001b[0m in \u001b[0;36m<module>\u001b[1;34m()\u001b[0m\n\u001b[0;32m     38\u001b[0m \u001b[0mx\u001b[0m \u001b[1;33m=\u001b[0m \u001b[1;36m0\u001b[0m\u001b[1;33m\u001b[0m\u001b[0m\n\u001b[0;32m     39\u001b[0m \u001b[1;32mwhile\u001b[0m \u001b[0mmaxDivisors\u001b[0m \u001b[1;33m<\u001b[0m \u001b[1;36m500\u001b[0m\u001b[1;33m:\u001b[0m\u001b[1;33m\u001b[0m\u001b[0m\n\u001b[1;32m---> 40\u001b[1;33m     \u001b[0mdivisors\u001b[0m \u001b[1;33m=\u001b[0m \u001b[0mdivisorsOfTheTriangleOf\u001b[0m\u001b[1;33m(\u001b[0m\u001b[0mx\u001b[0m\u001b[1;33m)\u001b[0m\u001b[1;33m\u001b[0m\u001b[0m\n\u001b[0m\u001b[0;32m     41\u001b[0m     \u001b[1;32mif\u001b[0m \u001b[0mdivisors\u001b[0m \u001b[1;33m>\u001b[0m \u001b[0mmaxDivisors\u001b[0m\u001b[1;33m:\u001b[0m\u001b[1;33m\u001b[0m\u001b[0m\n\u001b[0;32m     42\u001b[0m         \u001b[0mprint\u001b[0m\u001b[1;33m(\u001b[0m\u001b[1;34m\"Value: {}. New maxDivisor from Triangle {} with {} Divisors\"\u001b[0m\u001b[1;33m.\u001b[0m\u001b[0mformat\u001b[0m\u001b[1;33m(\u001b[0m\u001b[0mx\u001b[0m\u001b[1;33m,\u001b[0m \u001b[0mfindTriangle\u001b[0m\u001b[1;33m(\u001b[0m\u001b[0mx\u001b[0m\u001b[1;33m)\u001b[0m\u001b[1;33m,\u001b[0m \u001b[0mdivisors\u001b[0m\u001b[1;33m)\u001b[0m\u001b[1;33m)\u001b[0m\u001b[1;33m\u001b[0m\u001b[0m\n",
      "\u001b[1;32m<ipython-input-1-42009d62e997>\u001b[0m in \u001b[0;36mdivisorsOfTheTriangleOf\u001b[1;34m(number)\u001b[0m\n\u001b[0;32m     30\u001b[0m         \u001b[0mtriangle\u001b[0m \u001b[1;33m=\u001b[0m \u001b[0mbuff\u001b[0m\u001b[1;33m\u001b[0m\u001b[0m\n\u001b[0;32m     31\u001b[0m     \u001b[1;32mfor\u001b[0m \u001b[0mx\u001b[0m \u001b[1;32min\u001b[0m \u001b[0mrange\u001b[0m\u001b[1;33m(\u001b[0m\u001b[1;36m1\u001b[0m\u001b[1;33m,\u001b[0m \u001b[0mtriangle\u001b[0m \u001b[1;33m+\u001b[0m \u001b[1;36m1\u001b[0m\u001b[1;33m)\u001b[0m\u001b[1;33m:\u001b[0m\u001b[1;33m\u001b[0m\u001b[0m\n\u001b[1;32m---> 32\u001b[1;33m         \u001b[1;32mif\u001b[0m \u001b[0mtriangle\u001b[0m \u001b[1;33m%\u001b[0m \u001b[0mx\u001b[0m \u001b[1;33m==\u001b[0m \u001b[1;36m0\u001b[0m\u001b[1;33m:\u001b[0m\u001b[1;33m\u001b[0m\u001b[0m\n\u001b[0m\u001b[0;32m     33\u001b[0m             \u001b[0mamount\u001b[0m \u001b[1;33m+=\u001b[0m \u001b[1;36m1\u001b[0m\u001b[1;33m\u001b[0m\u001b[0m\n\u001b[0;32m     34\u001b[0m     \u001b[1;32mreturn\u001b[0m \u001b[0mamount\u001b[0m\u001b[1;33m\u001b[0m\u001b[0m\n",
      "\u001b[1;31mKeyboardInterrupt\u001b[0m: "
     ]
    }
   ],
   "source": [
    "# Answer = 76576500\n",
    "# Refactored 2019.10.16.2100.EST\n",
    "\n",
    "maxDivisors = 0\n",
    "\n",
    "def findTriangle(number):\n",
    "    triangle = 0\n",
    "    for x in range(1, number + 1):\n",
    "        triangle += x\n",
    "    return triangle\n",
    "\n",
    "def findDivisors(number):\n",
    "    array = []\n",
    "    for x in range(1, number+1):\n",
    "        if number % x == 0:\n",
    "            array.append(x)\n",
    "    return array\n",
    "\n",
    "buff = 0\n",
    "def divisorsOfTheTriangleOf(number):\n",
    "    global buff\n",
    "    triangle = 0\n",
    "    amount = 0\n",
    "    if not buff:\n",
    "        for x in range(1, number + 1):\n",
    "            triangle += x\n",
    "        buff = triangle\n",
    "    else:\n",
    "        buff += number\n",
    "        triangle = buff\n",
    "    for x in range(1, triangle + 1):\n",
    "        if triangle % x == 0:\n",
    "            amount += 1\n",
    "    return amount\n",
    "\n",
    "print(\"Calculating... Program not optimized, this may take awhile...\")\n",
    "\n",
    "x = 0\n",
    "while maxDivisors < 500:\n",
    "    divisors = divisorsOfTheTriangleOf(x)\n",
    "    if divisors > maxDivisors:\n",
    "        print(\"Value: {}. New maxDivisor from Triangle {} with {} Divisors\".format(x, findTriangle(x), divisors))\n",
    "        maxDivisors = divisors\n",
    "    x += 1"
   ]
  }
 ],
 "metadata": {
  "kernelspec": {
   "display_name": "Python 3",
   "language": "python",
   "name": "python3"
  },
  "language_info": {
   "codemirror_mode": {
    "name": "ipython",
    "version": 3
   },
   "file_extension": ".py",
   "mimetype": "text/x-python",
   "name": "python",
   "nbconvert_exporter": "python",
   "pygments_lexer": "ipython3",
   "version": "3.6.3"
  }
 },
 "nbformat": 4,
 "nbformat_minor": 2
}
