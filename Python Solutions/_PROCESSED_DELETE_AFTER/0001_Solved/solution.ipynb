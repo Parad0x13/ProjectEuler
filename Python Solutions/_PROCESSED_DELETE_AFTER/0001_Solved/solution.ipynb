{
 "cells": [
  {
   "cell_type": "code",
   "execution_count": 2,
   "metadata": {},
   "outputs": [
    {
     "name": "stdout",
     "output_type": "stream",
     "text": [
      "Iteration: 999, Sum: 233168\n"
     ]
    }
   ],
   "source": [
    "# Answer = 233168\n",
    "\n",
    "import sys; sys.path.insert(0, \"..\"); from helper import *\n",
    "\n",
    "sum = 0\n",
    "\n",
    "for x in range(1000):\n",
    "    if(x % 3 == 0 or x % 5 == 0): sum += x\n",
    "\n",
    "print(\"Iteration: {}, Sum: {}\".format(x, sum))"
   ]
  }
 ],
 "metadata": {
  "kernelspec": {
   "display_name": "Python 3",
   "language": "python",
   "name": "python3"
  },
  "language_info": {
   "codemirror_mode": {
    "name": "ipython",
    "version": 3
   },
   "file_extension": ".py",
   "mimetype": "text/x-python",
   "name": "python",
   "nbconvert_exporter": "python",
   "pygments_lexer": "ipython3",
   "version": "3.6.3"
  }
 },
 "nbformat": 4,
 "nbformat_minor": 2
}
