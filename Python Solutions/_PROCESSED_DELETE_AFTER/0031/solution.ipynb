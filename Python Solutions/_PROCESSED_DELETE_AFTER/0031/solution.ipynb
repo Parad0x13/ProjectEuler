{
 "cells": [
  {
   "cell_type": "code",
   "execution_count": null,
   "metadata": {},
   "outputs": [],
   "source": [
    "# Looks like this is a known issue that seems to have no known closed form solution. This means I have to find other ways of calculating them and a few examples of how are outlined in this pdf:\n",
    "# https://pdfs.semanticscholar.org/df22/b005a381c7b837e781926589842dde8d8f80.pdf\n",
    "# I guess the problem being asked is 'calculate unrestricted partitions'"
   ]
  }
 ],
 "metadata": {
  "kernelspec": {
   "display_name": "Python 3",
   "language": "python",
   "name": "python3"
  },
  "language_info": {
   "codemirror_mode": {
    "name": "ipython",
    "version": 3
   },
   "file_extension": ".py",
   "mimetype": "text/x-python",
   "name": "python",
   "nbconvert_exporter": "python",
   "pygments_lexer": "ipython3",
   "version": "3.6.3"
  }
 },
 "nbformat": 4,
 "nbformat_minor": 2
}
