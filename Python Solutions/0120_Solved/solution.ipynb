{
 "cells": [
  {
   "cell_type": "code",
   "execution_count": 1,
   "metadata": {},
   "outputs": [
    {
     "name": "stdout",
     "output_type": "stream",
     "text": [
      "333082500\n"
     ]
    }
   ],
   "source": [
    "# I solved this 2019.05.14.1650.EST and was the 12086th person to do so\n",
    "# Answer = 333082500\n",
    "\n",
    "def r(a, n): return ((a - 1) ** n + (a + 1) ** n) % (a ** 2)\n",
    "\n",
    "def maxN(a):\n",
    "    period = 2 * a    # I'm not really sure why this is but there does seem to be a bounding pattern of some sort\n",
    "    r_max = 0\n",
    "    n_max = 0\n",
    "    for n in range(period):\n",
    "        R = r(a, n)\n",
    "        if R > r_max:\n",
    "            r_max = R\n",
    "            n_max = n\n",
    "    return r_max\n",
    "\n",
    "lower = 3\n",
    "upper = 1000\n",
    "total = 0\n",
    "for a in range(lower, upper + 1): total += maxN(a)\n",
    "print(total)"
   ]
  }
 ],
 "metadata": {
  "kernelspec": {
   "display_name": "Python 3",
   "language": "python",
   "name": "python3"
  },
  "language_info": {
   "codemirror_mode": {
    "name": "ipython",
    "version": 3
   },
   "file_extension": ".py",
   "mimetype": "text/x-python",
   "name": "python",
   "nbconvert_exporter": "python",
   "pygments_lexer": "ipython3",
   "version": "3.6.3"
  }
 },
 "nbformat": 4,
 "nbformat_minor": 2
}
