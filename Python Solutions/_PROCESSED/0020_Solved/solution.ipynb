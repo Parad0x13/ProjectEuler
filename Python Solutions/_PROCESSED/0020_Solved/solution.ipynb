{
 "cells": [
  {
   "cell_type": "code",
   "execution_count": 3,
   "metadata": {},
   "outputs": [
    {
     "name": "stdout",
     "output_type": "stream",
     "text": [
      "Sum of Digits is: 648\n"
     ]
    }
   ],
   "source": [
    "# Answer = 648\n",
    "\n",
    "factorial = 1\n",
    "for i in range(1, 100 + 1):\n",
    "    factorial *= i\n",
    "else:\n",
    "    summed = str(factorial)\n",
    "    print(\"Sum of Digits is: {}\".format(sum(map(int,summed))))"
   ]
  }
 ],
 "metadata": {
  "kernelspec": {
   "display_name": "Python 3",
   "language": "python",
   "name": "python3"
  },
  "language_info": {
   "codemirror_mode": {
    "name": "ipython",
    "version": 3
   },
   "file_extension": ".py",
   "mimetype": "text/x-python",
   "name": "python",
   "nbconvert_exporter": "python",
   "pygments_lexer": "ipython3",
   "version": "3.6.3"
  }
 },
 "nbformat": 4,
 "nbformat_minor": 2
}
