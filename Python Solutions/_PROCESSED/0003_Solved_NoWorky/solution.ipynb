{
 "cells": [
  {
   "cell_type": "code",
   "execution_count": 9,
   "metadata": {},
   "outputs": [
    {
     "ename": "IndexError",
     "evalue": "list assignment index out of range",
     "output_type": "error",
     "traceback": [
      "\u001b[1;31m---------------------------------------------------------------------------\u001b[0m",
      "\u001b[1;31mIndexError\u001b[0m                                Traceback (most recent call last)",
      "\u001b[1;32m<ipython-input-9-00d03c3bfd23>\u001b[0m in \u001b[0;36m<module>\u001b[1;34m()\u001b[0m\n\u001b[0;32m     17\u001b[0m \u001b[0mprimeFactor\u001b[0m \u001b[1;33m=\u001b[0m \u001b[1;36m0\u001b[0m\u001b[1;33m\u001b[0m\u001b[0m\n\u001b[0;32m     18\u001b[0m \u001b[1;33m\u001b[0m\u001b[0m\n\u001b[1;32m---> 19\u001b[1;33m \u001b[0mprimes\u001b[0m\u001b[1;33m[\u001b[0m\u001b[1;36m0\u001b[0m\u001b[1;33m]\u001b[0m \u001b[1;33m=\u001b[0m \u001b[1;36m2\u001b[0m\u001b[1;33m\u001b[0m\u001b[0m\n\u001b[0m\u001b[0;32m     20\u001b[0m \u001b[0mfoundPrimes\u001b[0m \u001b[1;33m+=\u001b[0m \u001b[1;36m1\u001b[0m\u001b[1;33m\u001b[0m\u001b[0m\n\u001b[0;32m     21\u001b[0m \u001b[1;33m\u001b[0m\u001b[0m\n",
      "\u001b[1;31mIndexError\u001b[0m: list assignment index out of range"
     ]
    }
   ],
   "source": [
    "# Answer = 6857\n",
    "\n",
    "import math\n",
    "\n",
    "#int foundPrimes = 0, primes[9000000]\n",
    "foundPrimes = 0\n",
    "primes = []\n",
    "\n",
    "# Uses the Sieve Of Eratosthenes method\n",
    "def isprime(num):\n",
    "    for d in range(foundPrimes):\n",
    "        if num % primes[d] == 0: return False\n",
    "\n",
    "    return True\n",
    "\n",
    "theNumber = 600851475143\n",
    "primeFactor = 0\n",
    "\n",
    "primes[0] = 2\n",
    "foundPrimes += 1\n",
    "\n",
    "print(\"Calculating...\")\n",
    "maxNeeded = math.sqrt(theNumber)\n",
    "for x in range(3, maxNeeded):\n",
    "    if isprime(x):\n",
    "        foundPrimes += 1\n",
    "        primes[foundPrimes-1] = x\n",
    "        if theNumber % x == 0:\n",
    "            primeFactor = x\n",
    "\n",
    "printf(\"Fully Calculated! Largest Prime Factor is {}\".format(primeFactor))"
   ]
  }
 ],
 "metadata": {
  "kernelspec": {
   "display_name": "Python 3",
   "language": "python",
   "name": "python3"
  },
  "language_info": {
   "codemirror_mode": {
    "name": "ipython",
    "version": 3
   },
   "file_extension": ".py",
   "mimetype": "text/x-python",
   "name": "python",
   "nbconvert_exporter": "python",
   "pygments_lexer": "ipython3",
   "version": "3.6.3"
  }
 },
 "nbformat": 4,
 "nbformat_minor": 2
}
