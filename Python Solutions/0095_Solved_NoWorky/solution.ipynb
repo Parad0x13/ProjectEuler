{
 "cells": [
  {
   "cell_type": "code",
   "execution_count": 2,
   "metadata": {},
   "outputs": [
    {
     "ename": "TypeError",
     "evalue": "'dict' object cannot be interpreted as an integer",
     "output_type": "error",
     "traceback": [
      "\u001b[1;31m---------------------------------------------------------------------------\u001b[0m",
      "\u001b[1;31mTypeError\u001b[0m                                 Traceback (most recent call last)",
      "\u001b[1;32m<ipython-input-2-9f7d85d5ebb3>\u001b[0m in \u001b[0;36m<module>\u001b[1;34m()\u001b[0m\n\u001b[0;32m     50\u001b[0m \u001b[1;33m\u001b[0m\u001b[0m\n\u001b[0;32m     51\u001b[0m \u001b[0mlongest\u001b[0m \u001b[1;33m=\u001b[0m \u001b[1;33m[\u001b[0m\u001b[1;33m]\u001b[0m\u001b[1;33m\u001b[0m\u001b[0m\n\u001b[1;32m---> 52\u001b[1;33m \u001b[1;32mfor\u001b[0m \u001b[0mn\u001b[0m \u001b[1;32min\u001b[0m \u001b[0mrange\u001b[0m\u001b[1;33m(\u001b[0m\u001b[0mproperDivisorSums\u001b[0m\u001b[1;33m)\u001b[0m\u001b[1;33m:\u001b[0m\u001b[1;33m\u001b[0m\u001b[0m\n\u001b[0m\u001b[0;32m     53\u001b[0m     \u001b[0mpossible\u001b[0m \u001b[1;33m=\u001b[0m \u001b[0mchain\u001b[0m\u001b[1;33m(\u001b[0m\u001b[0mn\u001b[0m\u001b[1;33m,\u001b[0m \u001b[0mproperDivisorSums\u001b[0m\u001b[1;33m)\u001b[0m\u001b[1;33m\u001b[0m\u001b[0m\n\u001b[0;32m     54\u001b[0m     \u001b[1;32mif\u001b[0m \u001b[0mpossible\u001b[0m \u001b[1;33m==\u001b[0m \u001b[1;32mNone\u001b[0m\u001b[1;33m:\u001b[0m \u001b[1;32mcontinue\u001b[0m\u001b[1;33m\u001b[0m\u001b[0m\n",
      "\u001b[1;31mTypeError\u001b[0m: 'dict' object cannot be interpreted as an integer"
     ]
    }
   ],
   "source": [
    "# Solved 2019.05.14.1503.EST. Was the 12204th person to solve it.\n",
    "# Answer = 14316\n",
    "\n",
    "# I don't like this solution though. I think it'd be smarter to count down from 1000000\n",
    "# and eliminate lines that don't work rather than calculate everything manually\n",
    "\n",
    "import math\n",
    "\n",
    "# Ignores primes\n",
    "def properDivisors(n):\n",
    "    if n == 0: return None\n",
    "\n",
    "    retVal = [1]\n",
    "    for i in range(2, int(math.sqrt(n) + 1)):\n",
    "        if n % i == 0: retVal.extend([i, n / i])\n",
    "\n",
    "    retVal = list(set(retVal))\n",
    "    if len(retVal) == 1: return None\n",
    "    return retVal\n",
    "\n",
    "properDivisorSums = {}\n",
    "def properDivisorSum(n):\n",
    "    retVal = 0\n",
    "    divisors = properDivisors(n)\n",
    "    if divisors is not None:\n",
    "        for divisor in divisors: retVal += divisor    # Can't I just sum() the list?\n",
    "    return retVal\n",
    "\n",
    "def chain(n, properDivisorSums):\n",
    "    retVal = [n]\n",
    "\n",
    "    current = n\n",
    "    while True:\n",
    "        if properDivisorSums[current] not in properDivisorSums: return None\n",
    "\n",
    "        follows = properDivisorSums[current]\n",
    "\n",
    "        if follows == 0: return None\n",
    "        if follows == current: return None\n",
    "\n",
    "        if follows in retVal:\n",
    "            if retVal[0] == follows: return retVal\n",
    "            else: return None\n",
    "\n",
    "        retVal.append(follows)\n",
    "        if retVal[-1] == current: break    # [BUG] I think there's something wrong with the logic here... Not sure, need to test. Certainly can't break and never return anything though\n",
    "        current = retVal[-1]\n",
    "\n",
    "N = 1000000\n",
    "for n in range(N): properDivisorSums[d] = properDivisorSum(n)\n",
    "\n",
    "longest = []\n",
    "for n in range(properDivisorSums):\n",
    "    possible = chain(n, properDivisorSums)\n",
    "    if possible == None: continue\n",
    "\n",
    "    if len(possible) > len(longest):\n",
    "        print(\"Seed of {} results in {}\".format(n, possible))\n",
    "        longest = possible\n",
    "\n",
    "print()\n",
    "print(min(longest))"
   ]
  }
 ],
 "metadata": {
  "kernelspec": {
   "display_name": "Python 3",
   "language": "python",
   "name": "python3"
  },
  "language_info": {
   "codemirror_mode": {
    "name": "ipython",
    "version": 3
   },
   "file_extension": ".py",
   "mimetype": "text/x-python",
   "name": "python",
   "nbconvert_exporter": "python",
   "pygments_lexer": "ipython3",
   "version": "3.6.3"
  }
 },
 "nbformat": 4,
 "nbformat_minor": 2
}
