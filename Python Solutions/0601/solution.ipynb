{
 "cells": [
  {
   "cell_type": "code",
   "execution_count": null,
   "metadata": {},
   "outputs": [],
   "source": [
    "def streak(n):\n",
    "    count = 1\n",
    "    while True:\n",
    "        if (n + count) % (count + 1) != 0: break\n",
    "        count += 1\n",
    "    return count\n",
    "\n",
    "def numStreaks(s, N):\n",
    "    retVal = 0\n",
    "    for n in range(2, N)\n",
    "        count = streak(n)\n",
    "        if count == s: retVal += 1\n",
    "    return retVal\n",
    "\n",
    "total = 0\n",
    "for i in range(1, 31):\n",
    "    num = numStreaks(i, pow(4, i))\n",
    "    total += num\n",
    "    print(\"i of {} yields {}\".format(i, num))\n",
    "\n",
    "print(\"Done with {} total\".format(total))"
   ]
  }
 ],
 "metadata": {
  "kernelspec": {
   "display_name": "Python 3",
   "language": "python",
   "name": "python3"
  },
  "language_info": {
   "codemirror_mode": {
    "name": "ipython",
    "version": 3
   },
   "file_extension": ".py",
   "mimetype": "text/x-python",
   "name": "python",
   "nbconvert_exporter": "python",
   "pygments_lexer": "ipython3",
   "version": "3.6.3"
  }
 },
 "nbformat": 4,
 "nbformat_minor": 2
}
